{
 "cells": [
  {
   "cell_type": "code",
   "execution_count": 10,
   "metadata": {},
   "outputs": [
    {
     "data": {
      "text/plain": [
       "'<html>\\r\\n<head><title>400 Bad Request</title></head>\\r\\n<body bgcolor=\"white\">\\r\\n<center><h1>400 Bad Request</h1></center>\\r\\n<hr><center>openresty</center>\\r\\n</body>\\r\\n</html>\\r\\n'"
      ]
     },
     "execution_count": 10,
     "metadata": {},
     "output_type": "execute_result"
    }
   ],
   "source": [
    "import requests\n",
    "r = requests.get('https://www.zhihu.com/api/v4/questions/55493026/answers')\n",
    "response = r.text\n",
    "\n",
    "response"
   ]
  },
  {
   "cell_type": "code",
   "execution_count": 13,
   "metadata": {
    "scrolled": true
   },
   "outputs": [
    {
     "name": "stdout",
     "output_type": "stream",
     "text": [
      "{\"data\":[{\"id\":683070334,\"type\":\"answer\",\"answer_type\":\"normal\",\"question\":{\"type\":\"question\",\"id\":5\n"
     ]
    }
   ],
   "source": [
    "import requests\n",
    "headers = {'user-agent': 'my-app/0.0.1'}\n",
    "r = requests.get('https://www.zhihu.com/api/v4/questions/55493026/answers',headers=headers)\n",
    "response = r.text\n",
    "\n",
    "print(response[0:100])"
   ]
  },
  {
   "cell_type": "markdown",
   "metadata": {},
   "source": [
    "作業目標\n",
    "根據範例提供的 API ，完成以下問題：\n",
    "取出知乎問題發問時間\n",
    "取出第一筆與最後一筆回答的時間"
   ]
  },
  {
   "cell_type": "code",
   "execution_count": 38,
   "metadata": {
    "scrolled": true
   },
   "outputs": [
    {
     "name": "stdout",
     "output_type": "stream",
     "text": [
      "提出問題時間 2019-05-14 17:00:12\n",
      "發問時間 2017-02-06 22:10:29\n",
      "提出問題時間 2019-04-01 10:17:08\n",
      "發問時間 2017-02-06 22:10:29\n",
      "提出問題時間 2017-05-02 10:45:13\n",
      "發問時間 2017-02-06 22:10:29\n",
      "提出問題時間 2019-10-29 11:07:06\n",
      "發問時間 2017-02-06 22:10:29\n",
      "提出問題時間 2019-02-27 11:41:25\n",
      "發問時間 2017-02-06 22:10:29\n"
     ]
    }
   ],
   "source": [
    "import json\n",
    "import time\n",
    "data = json.loads(response)\n",
    "\n",
    "for d in data['data']:\n",
    "    timeArray = time.localtime(d['created_time'])\n",
    "    otherStyleTime = time.strftime('%Y-%m-%d %H:%M:%S', timeArray)\n",
    "    print('提出問題時間',otherStyleTime)\n",
    "    timeArray = time.localtime(d['question']['created'])\n",
    "    otherStyleTime = time.strftime('%Y-%m-%d %H:%M:%S', timeArray)\n",
    "    print('發問時間',otherStyleTime)\n"
   ]
  },
  {
   "cell_type": "code",
   "execution_count": null,
   "metadata": {},
   "outputs": [],
   "source": []
  }
 ],
 "metadata": {
  "kernelspec": {
   "display_name": "Python 3",
   "language": "python",
   "name": "python3"
  },
  "language_info": {
   "codemirror_mode": {
    "name": "ipython",
    "version": 3
   },
   "file_extension": ".py",
   "mimetype": "text/x-python",
   "name": "python",
   "nbconvert_exporter": "python",
   "pygments_lexer": "ipython3",
   "version": "3.6.8"
  }
 },
 "nbformat": 4,
 "nbformat_minor": 2
}
