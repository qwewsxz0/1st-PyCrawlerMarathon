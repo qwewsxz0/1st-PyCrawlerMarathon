{
 "cells": [
  {
   "cell_type": "code",
   "execution_count": 12,
   "metadata": {},
   "outputs": [
    {
     "name": "stdout",
     "output_type": "stream",
     "text": [
      "爬蟲馬拉松\n",
      "01 資料來源與存取\n",
      "02 靜態網頁爬蟲\n",
      "03 動態網頁爬蟲\n"
     ]
    }
   ],
   "source": [
    "import xml.dom.minidom\n",
    "\n",
    "# 存取檔案\n",
    "doc = xml.dom.minidom.parse(\"./sample.xml\")\n",
    "\n",
    "# 存取我們的資訊\n",
    "print(doc.getElementsByTagName(\"Title\")[0].firstChild.nodeValue)\n",
    "\n",
    "# 用迴圈存取我們的資訊\n",
    "chapters = doc.getElementsByTagName(\"Chapter\")\n",
    "for chapter in chapters:\n",
    "    print (chapter.getAttribute('name'), chapter.firstChild.nodeValue)"
   ]
  },
  {
   "cell_type": "code",
   "execution_count": 19,
   "metadata": {},
   "outputs": [
    {
     "name": "stdout",
     "output_type": "stream",
     "text": [
      "爬蟲馬拉松\n",
      "<Element 'Chapter' at 0x0000018E47AC7278>\n",
      "{'name': '01'}\n",
      "01 資料來源與存取\n",
      "<Element 'Chapter' at 0x0000018E47AC72C8>\n",
      "{'name': '02'}\n",
      "02 靜態網頁爬蟲\n",
      "<Element 'Chapter' at 0x0000018E47AC7318>\n",
      "{'name': '03'}\n",
      "03 動態網頁爬蟲\n"
     ]
    }
   ],
   "source": [
    "import xml.etree.ElementTree as ET \n",
    "\n",
    "# 存取檔案\n",
    "tree = ET.parse('./sample.xml') \n",
    "root = tree.getroot()\n",
    "\n",
    "# 存取我們的資訊\n",
    "print(root[0].text)\n",
    "\n",
    "# 用迴圈存取我們的資訊\n",
    "chapters = root[2]\n",
    "for chapter in chapters:\n",
    "    print(chapter)\n",
    "    print(chapter.attrib)\n",
    "    print (chapter.attrib['name'], chapter.text)"
   ]
  },
  {
   "cell_type": "code",
   "execution_count": 21,
   "metadata": {},
   "outputs": [
    {
     "name": "stdout",
     "output_type": "stream",
     "text": [
      "爬蟲馬拉松\n",
      "01 資料來源與存取\n",
      "02 靜態網頁爬蟲\n",
      "03 動態網頁爬蟲\n"
     ]
    }
   ],
   "source": [
    "import xmltodict\n",
    "\n",
    "# 存取檔案\n",
    "\n",
    "with open('./sample.xml',encoding='utf-8-sig') as fd:\n",
    "    doc = dict(xmltodict.parse(fd.read()))\n",
    "\n",
    "# 存取我們的資訊\n",
    "print(doc['CUPOY']['Title'])\n",
    "\n",
    "# 用迴圈存取我們的資訊\n",
    "chapters = doc['CUPOY']['Chapters']['Chapter']\n",
    "for chapter in chapters:\n",
    "    print (chapter['@name'], chapter['#text'])"
   ]
  },
  {
   "cell_type": "code",
   "execution_count": 22,
   "metadata": {},
   "outputs": [
    {
     "data": {
      "text/plain": [
       "{'CUPOY': OrderedDict([('Title', '爬蟲馬拉松'),\n",
       "              ('Author', 'Wei'),\n",
       "              ('Chapters',\n",
       "               OrderedDict([('Chapter',\n",
       "                             [OrderedDict([('@name', '01'),\n",
       "                                           ('#text', '資料來源與存取')]),\n",
       "                              OrderedDict([('@name', '02'),\n",
       "                                           ('#text', '靜態網頁爬蟲')]),\n",
       "                              OrderedDict([('@name', '03'),\n",
       "                                           ('#text', '動態網頁爬蟲')])])]))])}"
      ]
     },
     "execution_count": 22,
     "metadata": {},
     "output_type": "execute_result"
    }
   ],
   "source": [
    "doc"
   ]
  },
  {
   "cell_type": "code",
   "execution_count": 24,
   "metadata": {},
   "outputs": [],
   "source": [
    "# 下載檔案\n",
    "import urllib.request\n",
    "import zipfile\n",
    "\n",
    "res = \"http://opendata.cwb.gov.tw/govdownload?dataid=F-D0047-093&authorizationkey=rdec-key-123-45678-011121314\"\n",
    "urllib.request.urlretrieve(res, \"./data/example.zip\")\n",
    "f = zipfile.ZipFile('./data/example.zip')\n",
    "f.extractall('./data')"
   ]
  },
  {
   "cell_type": "code",
   "execution_count": 25,
   "metadata": {},
   "outputs": [
    {
     "name": "stdout",
     "output_type": "stream",
     "text": [
      "09007_72hr_CH.xml\n",
      "09007_72hr_EN.xml\n",
      "09007_Week24_CH.xml\n",
      "09007_Week24_EN.xml\n",
      "09007_Weekday_CH.xml\n",
      "09007_Weekday_EN.xml\n",
      "09020_72hr_CH.xml\n",
      "09020_72hr_EN.xml\n",
      "09020_Week24_CH.xml\n",
      "09020_Week24_EN.xml\n",
      "09020_Weekday_CH.xml\n",
      "09020_Weekday_EN.xml\n",
      "10002_72hr_CH.xml\n",
      "10002_72hr_EN.xml\n",
      "10002_Week24_CH.xml\n",
      "10002_Week24_EN.xml\n",
      "10002_Weekday_CH.xml\n",
      "10002_Weekday_EN.xml\n",
      "10004_72hr_CH.xml\n",
      "10004_72hr_EN.xml\n",
      "10004_Week24_CH.xml\n",
      "10004_Week24_EN.xml\n",
      "10004_Weekday_CH.xml\n",
      "10004_Weekday_EN.xml\n",
      "10005_72hr_CH.xml\n",
      "10005_72hr_EN.xml\n",
      "10005_Week24_CH.xml\n",
      "10005_Week24_EN.xml\n",
      "10005_Weekday_CH.xml\n",
      "10005_Weekday_EN.xml\n",
      "10007_72hr_CH.xml\n",
      "10007_72hr_EN.xml\n",
      "10007_Week24_CH.xml\n",
      "10007_Week24_EN.xml\n",
      "10007_Weekday_CH.xml\n",
      "10007_Weekday_EN.xml\n",
      "10008_72hr_CH.xml\n",
      "10008_72hr_EN.xml\n",
      "10008_Week24_CH.xml\n",
      "10008_Week24_EN.xml\n",
      "10008_Weekday_CH.xml\n",
      "10008_Weekday_EN.xml\n",
      "10009_72hr_CH.xml\n",
      "10009_72hr_EN.xml\n",
      "10009_Week24_CH.xml\n",
      "10009_Week24_EN.xml\n",
      "10009_Weekday_CH.xml\n",
      "10009_Weekday_EN.xml\n",
      "10010_72hr_CH.xml\n",
      "10010_72hr_EN.xml\n",
      "10010_Week24_CH.xml\n",
      "10010_Week24_EN.xml\n",
      "10010_Weekday_CH.xml\n",
      "10010_Weekday_EN.xml\n",
      "10013_72hr_CH.xml\n",
      "10013_72hr_EN.xml\n",
      "10013_Week24_CH.xml\n",
      "10013_Week24_EN.xml\n",
      "10013_Weekday_CH.xml\n",
      "10013_Weekday_EN.xml\n",
      "10014_72hr_CH.xml\n",
      "10014_72hr_EN.xml\n",
      "10014_Week24_CH.xml\n",
      "10014_Week24_EN.xml\n",
      "10014_Weekday_CH.xml\n",
      "10014_Weekday_EN.xml\n",
      "10015_72hr_CH.xml\n",
      "10015_72hr_EN.xml\n",
      "10015_Week24_CH.xml\n",
      "10015_Week24_EN.xml\n",
      "10015_Weekday_CH.xml\n",
      "10015_Weekday_EN.xml\n",
      "10016_72hr_CH.xml\n",
      "10016_72hr_EN.xml\n",
      "10016_Week24_CH.xml\n",
      "10016_Week24_EN.xml\n",
      "10016_Weekday_CH.xml\n",
      "10016_Weekday_EN.xml\n",
      "10017_72hr_CH.xml\n",
      "10017_72hr_EN.xml\n",
      "10017_Week24_CH.xml\n",
      "10017_Week24_EN.xml\n",
      "10017_Weekday_CH.xml\n",
      "10017_Weekday_EN.xml\n",
      "10018_72hr_CH.xml\n",
      "10018_72hr_EN.xml\n",
      "10018_Week24_CH.xml\n",
      "10018_Week24_EN.xml\n",
      "10018_Weekday_CH.xml\n",
      "10018_Weekday_EN.xml\n",
      "10020_72hr_CH.xml\n",
      "10020_72hr_EN.xml\n",
      "10020_Week24_CH.xml\n",
      "10020_Week24_EN.xml\n",
      "10020_Weekday_CH.xml\n",
      "10020_Weekday_EN.xml\n",
      "63_72hr_CH.xml\n",
      "63_72hr_EN.xml\n",
      "63_Week24_CH.xml\n",
      "63_Week24_EN.xml\n",
      "63_Weekday_CH.xml\n",
      "63_Weekday_EN.xml\n",
      "64_72hr_CH.xml\n",
      "64_72hr_EN.xml\n",
      "64_Week24_CH.xml\n",
      "64_Week24_EN.xml\n",
      "64_Weekday_CH.xml\n",
      "64_Weekday_EN.xml\n",
      "65_72hr_CH.xml\n",
      "65_72hr_EN.xml\n",
      "65_Week24_CH.xml\n",
      "65_Week24_EN.xml\n",
      "65_Weekday_CH.xml\n",
      "65_Weekday_EN.xml\n",
      "66_72hr_CH.xml\n",
      "66_72hr_EN.xml\n",
      "66_Week24_CH.xml\n",
      "66_Week24_EN.xml\n",
      "66_Weekday_CH.xml\n",
      "66_Weekday_EN.xml\n",
      "67_72hr_CH.xml\n",
      "67_72hr_EN.xml\n",
      "67_Week24_CH.xml\n",
      "67_Week24_EN.xml\n",
      "67_Weekday_CH.xml\n",
      "67_Weekday_EN.xml\n",
      "68_72hr_CH.xml\n",
      "68_72hr_EN.xml\n",
      "68_Week24_CH.xml\n",
      "68_Week24_EN.xml\n",
      "68_Weekday_CH.xml\n",
      "68_Weekday_EN.xml\n",
      "example.zip\n",
      "TAIWAN_72hr_CH.xml\n",
      "TAIWAN_72hr_EN.xml\n",
      "TAIWAN_Week24_CH.xml\n",
      "TAIWAN_Week24_EN.xml\n",
      "TAIWAN_Weekday_CH.xml\n",
      "TAIWAN_Weekday_EN.xml\n"
     ]
    }
   ],
   "source": [
    "import os, sys\n",
    "\n",
    "# 打开文件\n",
    "dirs = os.listdir( './data' )\n",
    "\n",
    "# 输出所有文件和文件夹\n",
    "for file in dirs:\n",
    "    print(file)"
   ]
  },
  {
   "cell_type": "code",
   "execution_count": 32,
   "metadata": {},
   "outputs": [
    {
     "name": "stdout",
     "output_type": "stream",
     "text": [
      "<?xml version=\"1.0\" encoding=\"utf-8\"?>\n",
      "<cwbopendata xmlns=\"urn:cwb:gov:tw:cwbcommon:0.1\">\n",
      "  <identifier>f9736194-db28-4a21-8e99-f9b373608546</identifier>\n",
      "  <sender>weather@cwb.gov.tw</sender>\n",
      "  <sent>2020-02-28T18:19:25+08:00</sent>\n",
      "  <status>Actual</status>\n",
      "  <scope>Public</scope>\n",
      "  <msgType>Issue</msgType>\n",
      "  <dataid>D0047-065</dataid>\n",
      "  <source>MFC</source>\n",
      "  <dataset>\n",
      "    <datasetInfo>\n",
      "      <datasetDescription>臺灣各縣市鄉鎮未來3天(72小時)逐3小時天氣預報</datasetDescription>\n",
      "      <datasetLanguage>zh-TW</datasetLanguage>\n",
      "      <issueTime>2020-02-28T17:00:00+08:00</issueTime>\n",
      "      <validTime>\n",
      "        <startTime>2020-02-28T18:00:00+08:00</startTime>\n",
      "        <endTime>2020-03-02T17:00:00+08:00</endTime>\n",
      "      </validTime>\n",
      "      <update>2020-02-28T18:19:25+08:00</update>\n",
      "    </datasetInfo>\n",
      "    <locations>\n",
      "      <locationsName>高雄市</locationsName>\n",
      "      <location>\n",
      "        <locationName>鹽埕區</locationName>\n",
      "        <geocode>6400100</geocode>\n",
      "        <lat>22.626497</lat>\n",
      "        <lon>120.278707</lon>\n",
      "        <weatherElement>\n",
      "          <elementName>T</elementName>\n",
      "          <description>溫度</description>\n",
      "          <time>\n",
      "            <dataTime>2020-02-28T18:00:00+08:00</dataTime>\n",
      "            <elementValue>\n",
      "              <value>25</value>\n",
      "              <measures>攝氏度</measures>\n",
      "            </elementValue>\n",
      "          </time>\n",
      "          <time>\n",
      "            <dataTime>2020-02-28T21:00:00+08:00</dataTime>\n",
      "            <elementValue>\n",
      "              <value>24</value>\n",
      "              <measures>攝氏度</measures>\n",
      "            </elementValue>\n",
      "          </time>\n",
      "          <time>\n",
      "            <dataTime>2020-02-29T00:00:00+08:00</dataTime>\n",
      "            <elementValue>\n",
      "              <value>23</value>\n",
      "              <measures>攝氏度</measures>\n",
      "            </elementValue>\n",
      "          </time>\n",
      "          <time>\n",
      "            <dataTime>2020-02-29T03:00:00+08:00</dataTime>\n",
      "            <elementValue>\n",
      "              <value>22</value>\n",
      "              <measures>攝氏度</measures>\n",
      "            </elementValue>\n",
      "          </time>\n",
      "          <time>\n",
      "            <dataTime>2020-02-29T06:00:00+08:00</dataTime>\n",
      "            <elementValue>\n",
      "              <value>22</value>\n",
      "              <measures>攝氏度</measures>\n",
      "            </elementValue>\n",
      "          </time>\n",
      "          <time>\n",
      "            <dataTime>2020-02-29T09:00:00+08:00</dataTime>\n",
      "            <elementValue>\n",
      "              <value>23</value>\n",
      "              <measures>攝氏度</measures>\n",
      "            </elementValue>\n",
      "          </time>\n",
      "          <time>\n",
      "            <dataTime>2020-02-29T12:00:00+08:00</dataTime>\n",
      "            <elementValue>\n",
      "              <value>28</value>\n",
      "              <measures>攝氏度</measures>\n",
      "            </elementValue>\n",
      "          </time>\n",
      "          <time>\n",
      "            <dataTime>2020-02-29T15:00:00+08:00</dataTime>\n",
      "            <elementValue>\n",
      "              <value>28</value>\n",
      "              <measures>攝氏度</measures>\n",
      "            </elementValue>\n",
      "          </time>\n",
      "          <time>\n",
      "            <dataTime>2020-02-29T18:00:00+08:00</dataTime>\n",
      "            <elementValue>\n",
      "              <value>27</value>\n",
      "              <measures>攝氏度</measures>\n",
      "            </elementValue>\n",
      "          </time>\n",
      "          <time>\n",
      "            <dataTime>2020-02-29T21:00:00+08:00</dataTime>\n",
      "            <elementValue>\n",
      "              <value>26</value>\n",
      "              <measures>攝氏度</measures>\n",
      "            </elementValue>\n",
      "          </time>\n",
      "          <time>\n",
      "            <dataTime>2020-03-01T00:00:00+08:00</dataTime>\n",
      "            <elementValue>\n",
      "              <value>24</value>\n",
      "              <measures>攝氏度</measures>\n",
      "            </elementValue>\n",
      "          </time>\n",
      "          <time>\n",
      "            <dataTime>2020-03-01T03:00:00+08:00</dataTime>\n",
      "            <elementValue>\n",
      "              <value>24</value>\n",
      "              <measures>攝氏度</measures>\n",
      "            </elementValue>\n",
      "          </time>\n",
      "          <time>\n",
      "            <dataTime>2020-03-01T06:00:00+08:00</dataTime>\n",
      "            <elementValue>\n",
      "              <value>23</value>\n",
      "              <measures>攝氏度</measures>\n",
      "            </elementValue>\n",
      "          </time>\n",
      "          <time>\n",
      "            <dataTime>2020-03-01T09:00:00+08:00</dataTime>\n",
      "            <elementValue>\n",
      "              <value>25</value>\n",
      "              <measures>攝氏度</measures>\n",
      "            </elementValue>\n",
      "          </time>\n",
      "          <time>\n",
      "            <dataTime>2020-03-01T12:00:00+08:00</dataTime>\n",
      "            <elementValue>\n",
      "              <value>28</value>\n",
      "              <measures>攝氏度</measures>\n",
      "            </elementValue>\n",
      "          </time>\n",
      "          <time>\n",
      "            <dataTime>2020-03-01T15:00:00+08:00</dataTime>\n",
      "            <elementValue>\n",
      "              <value>28</value>\n",
      "              <measures>攝氏度</measures>\n",
      "            </elementValue>\n",
      "          </time>\n",
      "          <time>\n",
      "            <dataTime>2020-03-01T18:00:00+08:00</dataTime>\n",
      "            <elementValue>\n",
      "              <value>26</value>\n",
      "              <measures>攝氏度</measures>\n",
      "            </elementValue>\n",
      "          </time>\n",
      "          <time>\n",
      "            <dataTime>2020-03-01T21:00:00+08:00</dataTime>\n",
      "            <elementValue>\n",
      "              <value>25</value>\n",
      "              <measures>攝氏度</measures>\n",
      "            </elementValue>\n",
      "          </time>\n",
      "          <time>\n",
      "            <dataTime>2020-03-02T00:00:00+08:00</dataTime>\n",
      "            <elementValue>\n",
      "              <value>24</value>\n",
      "              <measures>攝氏度</measures>\n",
      "            </elementValue>\n",
      "          </time>\n",
      "          <time>\n",
      "            <dataTime>2020-03-02T03:00:00+08:00</dataTime>\n",
      "            <elementValue>\n",
      "              <value>23</value>\n",
      "              <measures>攝氏度</measures>\n",
      "            </elementValue>\n",
      "          </time>\n",
      "          <time>\n",
      "            <dataTime>2020-03-02T06:00:00+08:00</dataTime>\n",
      "            <elementValue>\n",
      "              <value>22</value>\n",
      "              <measures>攝氏度</measures>\n",
      "            </elementValue>\n",
      "          </time>\n",
      "          <time>\n",
      "            <dataTime>2020-03-02T09:00:00+08:00</dataTime>\n",
      "            <elementValue>\n",
      "              <value>24</value>\n",
      "              <measures>攝氏度</measures>\n",
      "            </elementValue>\n",
      "          </time>\n",
      "          <time>\n",
      "            <dataTime>2020-03-02T12:00:00+08:00</dataTime>\n",
      "            <elementValue>\n",
      "              <value>26</value>\n",
      "              <measures>攝氏度</measures>\n",
      "            </elementValue>\n",
      "          </time>\n",
      "          <time>\n",
      "            <dataTime>2020-03-02T15:00:00+08:00</dataTime>\n",
      "            <elementValue>\n",
      "              <value>27</value>\n",
      "              <measures>攝氏度</measures>\n",
      "            </elementValue>\n",
      "          </time>\n",
      "        </weatherElement>\n",
      "        <weatherElement>\n",
      "          <elementName>Td</elementName>\n",
      "          <description>露點溫度</description>\n",
      "          <time>\n",
      "            <dataTime>2020-02-28T18:00:00+08:00</dataTime>\n",
      "            <elementValue>\n",
      "              <value>20</value>\n",
      "              <measures>攝氏度</measures>\n",
      "            </elementValue>\n",
      "          </time>\n",
      "          <time>\n",
      "            <dataTime>2020-02-28T21:00:00+08:00</dataTime>\n",
      "            <elementValue>\n",
      "              <value>20</value>\n",
      "              <measures>攝氏度</measures>\n",
      "            </elementValue>\n",
      "          </time>\n",
      "          <time>\n",
      "            <dataTime>2020-02-29T00:00:00+08:00</dataTime>\n",
      "            <elementValue>\n",
      "              <value>21</value>\n",
      "              <measures>攝氏度</measures>\n",
      "            </elementValue>\n",
      "          </time>\n",
      "          <time>\n",
      "            <dataTime>2020-02-29T03:00:00+08:00</dataTime>\n",
      "            <elementValue>\n",
      "              <value>20</value>\n",
      "              <measures>攝氏度</measures>\n",
      "            </elementValue>\n",
      "          </time>\n",
      "          <time>\n",
      "            <dataTime>2020-02-29T06:00:00+08:00</dataTime>\n",
      "            <elementValue>\n",
      "              <value>20</value>\n",
      "              <measures>攝氏度</measures>\n",
      "            </elementValue>\n",
      "          </time>\n",
      "          <time>\n",
      "            <dataTime>2020-02-29T09:00:00+08:00</dataTime>\n",
      "            <elementValue>\n",
      "              <value>20</value>\n",
      "              <measures>攝氏度</measures>\n",
      "            </elementValue>\n",
      "          </time>\n",
      "          <time>\n",
      "            <dataTime>2020-02-29T12:00:00+08:00</dataTime>\n",
      "            <elementValue>\n",
      "              <value>20</value>\n",
      "              <measures>攝氏度</measures>\n",
      "            </elementValue>\n",
      "          </time>\n",
      "          <time>\n",
      "            <dataTime>2020-02-29T15:00:00+08:00</dataTime>\n",
      "            <elementValue>\n",
      "              <value>22</value>\n",
      "              <measures>攝氏度</measures>\n",
      "            </elementValue>\n",
      "          </time>\n",
      "          <time>\n",
      "            <dataTime>2020-02-29T18:00:00+08:00</dataTime>\n",
      "            <elementValue>\n",
      "              <value>22</value>\n",
      "              <measures>攝氏度</measures>\n",
      "            </elementValue>\n",
      "          </time>\n",
      "          <time>\n",
      "            <dataTime>2020-02-29T21:00:00+08:00</dataTime>\n",
      "            <elementValue>\n",
      "              <value>22</value>\n",
      "              <measures>攝氏度</measures>\n",
      "            </elementValue>\n",
      "          </time>\n",
      "          <time>\n",
      "            <dataTime>2020-03-01T00:00:00+08:00</dataTime>\n",
      "            <elementValue>\n",
      "              <value>22</value>\n",
      "              <measures>攝氏度</measures>\n",
      "            </elementValue>\n",
      "          </time>\n",
      "          <time>\n",
      "            <dataTime>2020-03-01T03:00:00+08:00</dataTime>\n",
      "            <elementValue>\n",
      "              <value>22</value>\n",
      "              <measures>攝氏度</measures>\n",
      "            </elementValue>\n",
      "          </time>\n",
      "          <time>\n",
      "            <dataTime>2020-03-01T06:00:00+08:00</dataTime>\n",
      "            <elementValue>\n",
      "              <value>22</value>\n",
      "              <measures>攝氏度</measures>\n",
      "            </elementValue>\n",
      "          </time>\n",
      "          <time>\n",
      "            <dataTime>2020-03-01T09:00:00+08:00</dataTime>\n",
      "            <elementValue>\n",
      "              <value>22</value>\n",
      "              <measures>攝氏度</measures>\n",
      "            </elementValue>\n",
      "          </time>\n",
      "          <time>\n",
      "            <dataTime>2020-03-01T12:00:00+08:00</dataTime>\n",
      "            <elementValue>\n",
      "              <value>22</value>\n",
      "              <measures>攝氏度</measures>\n",
      "            </elementValue>\n",
      "          </time>\n",
      "          <time>\n",
      "            <dataTime>2020-03-01T15:00:00+08:00</dataTime>\n",
      "            <elementValue>\n",
      "              <value>22</value>\n",
      "              <measures>攝氏度</measures>\n",
      "            </elem\n"
     ]
    }
   ],
   "source": [
    "# 讀檔案\n",
    "fh = open(\"./data/64_72hr_CH.xml\", \"r\",encoding='utf-8-sig')\n",
    "xml = fh.read()\n",
    "fh.close()\n",
    "\n",
    "print(xml[0:10000])"
   ]
  },
  {
   "cell_type": "code",
   "execution_count": 33,
   "metadata": {},
   "outputs": [],
   "source": [
    "# 解析檔案內容\n",
    "import xmltodict\n",
    "d = dict(xmltodict.parse(xml))"
   ]
  },
  {
   "cell_type": "code",
   "execution_count": 34,
   "metadata": {},
   "outputs": [
    {
     "name": "stdout",
     "output_type": "stream",
     "text": [
      "臺灣各縣市鄉鎮未來3天(72小時)逐3小時天氣預報\n"
     ]
    }
   ],
   "source": [
    "# 取出 datasetDescription\n",
    "datasetDescription = d['cwbopendata']['dataset']['datasetInfo']['datasetDescription']\n",
    "print(datasetDescription)"
   ]
  },
  {
   "cell_type": "markdown",
   "metadata": {},
   "source": [
    "比較一下範例檔案中的「File I/O」與「xmltodict」讀出來的內容有什麼差異\n",
    "根據範例檔案的結果：\n",
    "1. 請問高雄市有多少地區有溫度資料？\n",
    "2. 請取出每一個地區所記錄的第一個時間點跟溫度\n",
    "3. 請取出第一個地區所記錄的每一個時間點跟溫度"
   ]
  },
  {
   "cell_type": "markdown",
   "metadata": {},
   "source": [
    "比較一下範例檔案中的「File I/O」與「xmltodict」讀出來的內容有什麼差異"
   ]
  },
  {
   "cell_type": "markdown",
   "metadata": {},
   "source": [
    "ANS:格式不同"
   ]
  },
  {
   "cell_type": "markdown",
   "metadata": {},
   "source": [
    "根據範例檔案的結果：\n",
    "1. 請問高m雄市有多少地區有溫度資料？ 38"
   ]
  },
  {
   "cell_type": "code",
   "execution_count": 36,
   "metadata": {},
   "outputs": [
    {
     "data": {
      "text/plain": [
       "dict_keys(['cwbopendata'])"
      ]
     },
     "execution_count": 36,
     "metadata": {},
     "output_type": "execute_result"
    }
   ],
   "source": [
    "d.keys()"
   ]
  },
  {
   "cell_type": "code",
   "execution_count": 37,
   "metadata": {},
   "outputs": [
    {
     "data": {
      "text/plain": [
       "odict_keys(['@xmlns', 'identifier', 'sender', 'sent', 'status', 'scope', 'msgType', 'dataid', 'source', 'dataset'])"
      ]
     },
     "execution_count": 37,
     "metadata": {},
     "output_type": "execute_result"
    }
   ],
   "source": [
    "d['cwbopendata'].keys()"
   ]
  },
  {
   "cell_type": "code",
   "execution_count": 38,
   "metadata": {},
   "outputs": [
    {
     "data": {
      "text/plain": [
       "odict_keys(['datasetInfo', 'locations'])"
      ]
     },
     "execution_count": 38,
     "metadata": {},
     "output_type": "execute_result"
    }
   ],
   "source": [
    "d['cwbopendata']['dataset'].keys()"
   ]
  },
  {
   "cell_type": "code",
   "execution_count": 48,
   "metadata": {},
   "outputs": [
    {
     "data": {
      "text/plain": [
       "'鹽埕區'"
      ]
     },
     "execution_count": 48,
     "metadata": {},
     "output_type": "execute_result"
    }
   ],
   "source": [
    "d['cwbopendata']['dataset']['locations']['location'][0]['locationName']"
   ]
  },
  {
   "cell_type": "code",
   "execution_count": 49,
   "metadata": {},
   "outputs": [
    {
     "data": {
      "text/plain": [
       "38"
      ]
     },
     "execution_count": 49,
     "metadata": {},
     "output_type": "execute_result"
    }
   ],
   "source": [
    "len(d['cwbopendata']['dataset']['locations']['location'])"
   ]
  },
  {
   "cell_type": "code",
   "execution_count": 66,
   "metadata": {},
   "outputs": [],
   "source": [
    "city_num = len(d['cwbopendata']['dataset']['locations']['location'])"
   ]
  },
  {
   "cell_type": "code",
   "execution_count": 50,
   "metadata": {
    "scrolled": true
   },
   "outputs": [
    {
     "name": "stdout",
     "output_type": "stream",
     "text": [
      "鹽埕區\n",
      "鼓山區\n",
      "左營區\n",
      "楠梓區\n",
      "三民區\n",
      "新興區\n",
      "前金區\n",
      "苓雅區\n",
      "前鎮區\n",
      "旗津區\n",
      "小港區\n",
      "鳳山區\n",
      "林園區\n",
      "大寮區\n",
      "大樹區\n",
      "大社區\n",
      "仁武區\n",
      "鳥松區\n",
      "岡山區\n",
      "橋頭區\n",
      "燕巢區\n",
      "田寮區\n",
      "阿蓮區\n",
      "路竹區\n",
      "湖內區\n",
      "茄萣區\n",
      "永安區\n",
      "彌陀區\n",
      "梓官區\n",
      "旗山區\n",
      "美濃區\n",
      "六龜區\n",
      "甲仙區\n",
      "杉林區\n",
      "內門區\n",
      "茂林區\n",
      "桃源區\n",
      "那瑪夏區\n"
     ]
    }
   ],
   "source": [
    "for i in range(0,city_num):\n",
    "    print(d['cwbopendata']['dataset']['locations']['location'][i]['locationName'])"
   ]
  },
  {
   "cell_type": "markdown",
   "metadata": {},
   "source": [
    "2. 請取出每一個地區所記錄的第一個時間點跟溫度"
   ]
  },
  {
   "cell_type": "code",
   "execution_count": 67,
   "metadata": {},
   "outputs": [],
   "source": [
    "first_time = []\n",
    "first_temp = []"
   ]
  },
  {
   "cell_type": "code",
   "execution_count": 68,
   "metadata": {},
   "outputs": [],
   "source": [
    "for i in range(0,city_num):\n",
    "    first_time.append(d['cwbopendata']['dataset']['locations']['location'][i]['weatherElement'][0]['time'][0]['dataTime'])\n",
    "    first_temp.append(d['cwbopendata']['dataset']['locations']['location'][i]['weatherElement'][0]['time'][0]['elementValue']['value'])"
   ]
  },
  {
   "cell_type": "code",
   "execution_count": 69,
   "metadata": {
    "scrolled": true
   },
   "outputs": [
    {
     "data": {
      "text/plain": [
       "['2020-02-28T18:00:00+08:00',\n",
       " '2020-02-28T18:00:00+08:00',\n",
       " '2020-02-28T18:00:00+08:00',\n",
       " '2020-02-28T18:00:00+08:00',\n",
       " '2020-02-28T18:00:00+08:00',\n",
       " '2020-02-28T18:00:00+08:00',\n",
       " '2020-02-28T18:00:00+08:00',\n",
       " '2020-02-28T18:00:00+08:00',\n",
       " '2020-02-28T18:00:00+08:00',\n",
       " '2020-02-28T18:00:00+08:00',\n",
       " '2020-02-28T18:00:00+08:00',\n",
       " '2020-02-28T18:00:00+08:00',\n",
       " '2020-02-28T18:00:00+08:00',\n",
       " '2020-02-28T18:00:00+08:00',\n",
       " '2020-02-28T18:00:00+08:00',\n",
       " '2020-02-28T18:00:00+08:00',\n",
       " '2020-02-28T18:00:00+08:00',\n",
       " '2020-02-28T18:00:00+08:00',\n",
       " '2020-02-28T18:00:00+08:00',\n",
       " '2020-02-28T18:00:00+08:00',\n",
       " '2020-02-28T18:00:00+08:00',\n",
       " '2020-02-28T18:00:00+08:00',\n",
       " '2020-02-28T18:00:00+08:00',\n",
       " '2020-02-28T18:00:00+08:00',\n",
       " '2020-02-28T18:00:00+08:00',\n",
       " '2020-02-28T18:00:00+08:00',\n",
       " '2020-02-28T18:00:00+08:00',\n",
       " '2020-02-28T18:00:00+08:00',\n",
       " '2020-02-28T18:00:00+08:00',\n",
       " '2020-02-28T18:00:00+08:00',\n",
       " '2020-02-28T18:00:00+08:00',\n",
       " '2020-02-28T18:00:00+08:00',\n",
       " '2020-02-28T18:00:00+08:00',\n",
       " '2020-02-28T18:00:00+08:00',\n",
       " '2020-02-28T18:00:00+08:00',\n",
       " '2020-02-28T18:00:00+08:00',\n",
       " '2020-02-28T18:00:00+08:00',\n",
       " '2020-02-28T18:00:00+08:00']"
      ]
     },
     "execution_count": 69,
     "metadata": {},
     "output_type": "execute_result"
    }
   ],
   "source": [
    "first_time"
   ]
  },
  {
   "cell_type": "code",
   "execution_count": 70,
   "metadata": {
    "scrolled": true
   },
   "outputs": [
    {
     "data": {
      "text/plain": [
       "['25',\n",
       " '25',\n",
       " '24',\n",
       " '25',\n",
       " '25',\n",
       " '25',\n",
       " '25',\n",
       " '25',\n",
       " '25',\n",
       " '25',\n",
       " '26',\n",
       " '26',\n",
       " '25',\n",
       " '26',\n",
       " '26',\n",
       " '26',\n",
       " '25',\n",
       " '26',\n",
       " '25',\n",
       " '25',\n",
       " '25',\n",
       " '24',\n",
       " '24',\n",
       " '24',\n",
       " '24',\n",
       " '24',\n",
       " '24',\n",
       " '24',\n",
       " '24',\n",
       " '24',\n",
       " '26',\n",
       " '22',\n",
       " '22',\n",
       " '24',\n",
       " '24',\n",
       " '23',\n",
       " '20',\n",
       " '18']"
      ]
     },
     "execution_count": 70,
     "metadata": {},
     "output_type": "execute_result"
    }
   ],
   "source": [
    "first_temp"
   ]
  },
  {
   "cell_type": "markdown",
   "metadata": {},
   "source": [
    "3. 請取出第一個地區所記錄的每一個時間點跟溫度"
   ]
  },
  {
   "cell_type": "code",
   "execution_count": 79,
   "metadata": {},
   "outputs": [
    {
     "data": {
      "text/plain": [
       "11"
      ]
     },
     "execution_count": 79,
     "metadata": {},
     "output_type": "execute_result"
    }
   ],
   "source": [
    "len(d['cwbopendata']['dataset']['locations']['location'][0]['weatherElement'])"
   ]
  },
  {
   "cell_type": "code",
   "execution_count": 80,
   "metadata": {},
   "outputs": [],
   "source": [
    "feature_num = len(d['cwbopendata']['dataset']['locations']['location'][0]['weatherElement'])"
   ]
  },
  {
   "cell_type": "code",
   "execution_count": 85,
   "metadata": {},
   "outputs": [
    {
     "name": "stdout",
     "output_type": "stream",
     "text": [
      "溫度\n",
      "[OrderedDict([('dataTime', '2020-02-28T18:00:00+08:00'), ('elementValue', OrderedDict([('value', '25'), ('measures', '攝氏度')]))]), OrderedDict([('dataTime', '2020-02-28T21:00:00+08:00'), ('elementValue', OrderedDict([('value', '24'), ('measures', '攝氏度')]))]), OrderedDict([('dataTime', '2020-02-29T00:00:00+08:00'), ('elementValue', OrderedDict([('value', '23'), ('measures', '攝氏度')]))]), OrderedDict([('dataTime', '2020-02-29T03:00:00+08:00'), ('elementValue', OrderedDict([('value', '22'), ('measures', '攝氏度')]))]), OrderedDict([('dataTime', '2020-02-29T06:00:00+08:00'), ('elementValue', OrderedDict([('value', '22'), ('measures', '攝氏度')]))]), OrderedDict([('dataTime', '2020-02-29T09:00:00+08:00'), ('elementValue', OrderedDict([('value', '23'), ('measures', '攝氏度')]))]), OrderedDict([('dataTime', '2020-02-29T12:00:00+08:00'), ('elementValue', OrderedDict([('value', '28'), ('measures', '攝氏度')]))]), OrderedDict([('dataTime', '2020-02-29T15:00:00+08:00'), ('elementValue', OrderedDict([('value', '28'), ('measures', '攝氏度')]))]), OrderedDict([('dataTime', '2020-02-29T18:00:00+08:00'), ('elementValue', OrderedDict([('value', '27'), ('measures', '攝氏度')]))]), OrderedDict([('dataTime', '2020-02-29T21:00:00+08:00'), ('elementValue', OrderedDict([('value', '26'), ('measures', '攝氏度')]))]), OrderedDict([('dataTime', '2020-03-01T00:00:00+08:00'), ('elementValue', OrderedDict([('value', '24'), ('measures', '攝氏度')]))]), OrderedDict([('dataTime', '2020-03-01T03:00:00+08:00'), ('elementValue', OrderedDict([('value', '24'), ('measures', '攝氏度')]))]), OrderedDict([('dataTime', '2020-03-01T06:00:00+08:00'), ('elementValue', OrderedDict([('value', '23'), ('measures', '攝氏度')]))]), OrderedDict([('dataTime', '2020-03-01T09:00:00+08:00'), ('elementValue', OrderedDict([('value', '25'), ('measures', '攝氏度')]))]), OrderedDict([('dataTime', '2020-03-01T12:00:00+08:00'), ('elementValue', OrderedDict([('value', '28'), ('measures', '攝氏度')]))]), OrderedDict([('dataTime', '2020-03-01T15:00:00+08:00'), ('elementValue', OrderedDict([('value', '28'), ('measures', '攝氏度')]))]), OrderedDict([('dataTime', '2020-03-01T18:00:00+08:00'), ('elementValue', OrderedDict([('value', '26'), ('measures', '攝氏度')]))]), OrderedDict([('dataTime', '2020-03-01T21:00:00+08:00'), ('elementValue', OrderedDict([('value', '25'), ('measures', '攝氏度')]))]), OrderedDict([('dataTime', '2020-03-02T00:00:00+08:00'), ('elementValue', OrderedDict([('value', '24'), ('measures', '攝氏度')]))]), OrderedDict([('dataTime', '2020-03-02T03:00:00+08:00'), ('elementValue', OrderedDict([('value', '23'), ('measures', '攝氏度')]))]), OrderedDict([('dataTime', '2020-03-02T06:00:00+08:00'), ('elementValue', OrderedDict([('value', '22'), ('measures', '攝氏度')]))]), OrderedDict([('dataTime', '2020-03-02T09:00:00+08:00'), ('elementValue', OrderedDict([('value', '24'), ('measures', '攝氏度')]))]), OrderedDict([('dataTime', '2020-03-02T12:00:00+08:00'), ('elementValue', OrderedDict([('value', '26'), ('measures', '攝氏度')]))]), OrderedDict([('dataTime', '2020-03-02T15:00:00+08:00'), ('elementValue', OrderedDict([('value', '27'), ('measures', '攝氏度')]))])]\n",
      "露點溫度\n",
      "相對濕度\n",
      "6小時降雨機率\n",
      "12小時降雨機率\n",
      "風向\n",
      "風速\n",
      "舒適度指數\n",
      "體感溫度\n",
      "天氣現象\n",
      "天氣預報綜合描述\n"
     ]
    }
   ],
   "source": [
    "for i in range(0,feature_num):\n",
    "    print(d['cwbopendata']['dataset']['locations']['location'][0]['weatherElement'][i]['description'])\n",
    "    if d['cwbopendata']['dataset']['locations']['location'][0]['weatherElement'][i]['description']=='溫度':\n",
    "        print(d['cwbopendata']['dataset']['locations']['location'][0]['weatherElement'][i]['time'])"
   ]
  },
  {
   "cell_type": "code",
   "execution_count": 82,
   "metadata": {},
   "outputs": [
    {
     "data": {
      "text/plain": [
       "OrderedDict([('elementName', 'T'),\n",
       "             ('description', '溫度'),\n",
       "             ('time',\n",
       "              [OrderedDict([('dataTime', '2020-02-28T18:00:00+08:00'),\n",
       "                            ('elementValue',\n",
       "                             OrderedDict([('value', '25'),\n",
       "                                          ('measures', '攝氏度')]))]),\n",
       "               OrderedDict([('dataTime', '2020-02-28T21:00:00+08:00'),\n",
       "                            ('elementValue',\n",
       "                             OrderedDict([('value', '24'),\n",
       "                                          ('measures', '攝氏度')]))]),\n",
       "               OrderedDict([('dataTime', '2020-02-29T00:00:00+08:00'),\n",
       "                            ('elementValue',\n",
       "                             OrderedDict([('value', '23'),\n",
       "                                          ('measures', '攝氏度')]))]),\n",
       "               OrderedDict([('dataTime', '2020-02-29T03:00:00+08:00'),\n",
       "                            ('elementValue',\n",
       "                             OrderedDict([('value', '22'),\n",
       "                                          ('measures', '攝氏度')]))]),\n",
       "               OrderedDict([('dataTime', '2020-02-29T06:00:00+08:00'),\n",
       "                            ('elementValue',\n",
       "                             OrderedDict([('value', '22'),\n",
       "                                          ('measures', '攝氏度')]))]),\n",
       "               OrderedDict([('dataTime', '2020-02-29T09:00:00+08:00'),\n",
       "                            ('elementValue',\n",
       "                             OrderedDict([('value', '23'),\n",
       "                                          ('measures', '攝氏度')]))]),\n",
       "               OrderedDict([('dataTime', '2020-02-29T12:00:00+08:00'),\n",
       "                            ('elementValue',\n",
       "                             OrderedDict([('value', '28'),\n",
       "                                          ('measures', '攝氏度')]))]),\n",
       "               OrderedDict([('dataTime', '2020-02-29T15:00:00+08:00'),\n",
       "                            ('elementValue',\n",
       "                             OrderedDict([('value', '28'),\n",
       "                                          ('measures', '攝氏度')]))]),\n",
       "               OrderedDict([('dataTime', '2020-02-29T18:00:00+08:00'),\n",
       "                            ('elementValue',\n",
       "                             OrderedDict([('value', '27'),\n",
       "                                          ('measures', '攝氏度')]))]),\n",
       "               OrderedDict([('dataTime', '2020-02-29T21:00:00+08:00'),\n",
       "                            ('elementValue',\n",
       "                             OrderedDict([('value', '26'),\n",
       "                                          ('measures', '攝氏度')]))]),\n",
       "               OrderedDict([('dataTime', '2020-03-01T00:00:00+08:00'),\n",
       "                            ('elementValue',\n",
       "                             OrderedDict([('value', '24'),\n",
       "                                          ('measures', '攝氏度')]))]),\n",
       "               OrderedDict([('dataTime', '2020-03-01T03:00:00+08:00'),\n",
       "                            ('elementValue',\n",
       "                             OrderedDict([('value', '24'),\n",
       "                                          ('measures', '攝氏度')]))]),\n",
       "               OrderedDict([('dataTime', '2020-03-01T06:00:00+08:00'),\n",
       "                            ('elementValue',\n",
       "                             OrderedDict([('value', '23'),\n",
       "                                          ('measures', '攝氏度')]))]),\n",
       "               OrderedDict([('dataTime', '2020-03-01T09:00:00+08:00'),\n",
       "                            ('elementValue',\n",
       "                             OrderedDict([('value', '25'),\n",
       "                                          ('measures', '攝氏度')]))]),\n",
       "               OrderedDict([('dataTime', '2020-03-01T12:00:00+08:00'),\n",
       "                            ('elementValue',\n",
       "                             OrderedDict([('value', '28'),\n",
       "                                          ('measures', '攝氏度')]))]),\n",
       "               OrderedDict([('dataTime', '2020-03-01T15:00:00+08:00'),\n",
       "                            ('elementValue',\n",
       "                             OrderedDict([('value', '28'),\n",
       "                                          ('measures', '攝氏度')]))]),\n",
       "               OrderedDict([('dataTime', '2020-03-01T18:00:00+08:00'),\n",
       "                            ('elementValue',\n",
       "                             OrderedDict([('value', '26'),\n",
       "                                          ('measures', '攝氏度')]))]),\n",
       "               OrderedDict([('dataTime', '2020-03-01T21:00:00+08:00'),\n",
       "                            ('elementValue',\n",
       "                             OrderedDict([('value', '25'),\n",
       "                                          ('measures', '攝氏度')]))]),\n",
       "               OrderedDict([('dataTime', '2020-03-02T00:00:00+08:00'),\n",
       "                            ('elementValue',\n",
       "                             OrderedDict([('value', '24'),\n",
       "                                          ('measures', '攝氏度')]))]),\n",
       "               OrderedDict([('dataTime', '2020-03-02T03:00:00+08:00'),\n",
       "                            ('elementValue',\n",
       "                             OrderedDict([('value', '23'),\n",
       "                                          ('measures', '攝氏度')]))]),\n",
       "               OrderedDict([('dataTime', '2020-03-02T06:00:00+08:00'),\n",
       "                            ('elementValue',\n",
       "                             OrderedDict([('value', '22'),\n",
       "                                          ('measures', '攝氏度')]))]),\n",
       "               OrderedDict([('dataTime', '2020-03-02T09:00:00+08:00'),\n",
       "                            ('elementValue',\n",
       "                             OrderedDict([('value', '24'),\n",
       "                                          ('measures', '攝氏度')]))]),\n",
       "               OrderedDict([('dataTime', '2020-03-02T12:00:00+08:00'),\n",
       "                            ('elementValue',\n",
       "                             OrderedDict([('value', '26'),\n",
       "                                          ('measures', '攝氏度')]))]),\n",
       "               OrderedDict([('dataTime', '2020-03-02T15:00:00+08:00'),\n",
       "                            ('elementValue',\n",
       "                             OrderedDict([('value', '27'),\n",
       "                                          ('measures', '攝氏度')]))])])])"
      ]
     },
     "execution_count": 82,
     "metadata": {},
     "output_type": "execute_result"
    }
   ],
   "source": [
    "d['cwbopendata']['dataset']['locations']['location'][0]['weatherElement'][i]"
   ]
  },
  {
   "cell_type": "code",
   "execution_count": null,
   "metadata": {},
   "outputs": [],
   "source": []
  }
 ],
 "metadata": {
  "kernelspec": {
   "display_name": "Python 3",
   "language": "python",
   "name": "python3"
  },
  "language_info": {
   "codemirror_mode": {
    "name": "ipython",
    "version": 3
   },
   "file_extension": ".py",
   "mimetype": "text/x-python",
   "name": "python",
   "nbconvert_exporter": "python",
   "pygments_lexer": "ipython3",
   "version": "3.6.8"
  }
 },
 "nbformat": 4,
 "nbformat_minor": 2
}
