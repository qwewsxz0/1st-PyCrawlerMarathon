{
 "cells": [
  {
   "cell_type": "code",
   "execution_count": 2,
   "metadata": {},
   "outputs": [
    {
     "name": "stdout",
     "output_type": "stream",
     "text": [
      "[{\"id\":\"11636587149\",\"type\":\"PushEvent\",\"actor\":{\"id\":49448246,\"login\":\"CezaryZal\",\"display_login\":\"CezaryZal\",\"gravatar_id\":\"\",\"url\":\"https://api.github.com/users/CezaryZal\",\"avatar_url\":\"https://avatars.githubusercontent.com/u/49448246?\"},\"repo\":{\"id\":205214122,\"name\":\"CezaryZal/Dimension-tolerances\",\"url\":\"https://api.github.com/repos/CezaryZal/Dimension-tolerances\"},\"payload\":{\"push_id\":4695877476,\"size\":2,\"distinct_size\":1,\"ref\":\"refs/heads/master\",\"head\":\"0849c43b1c2f55442c65a8caef250109db77791d\",\"before\":\"a09a5ad7b2cd7c7db9b866d2784bbb6a17fd9c7b\",\"commits\":[{\"sha\":\"4a582eeee6d6ab6bb6be935d2c954ff554dad8a3\",\"author\":{\"email\":\"49699333+dependabot[bot]@users.noreply.github.com\",\"name\":\"dependabot[bot]\"},\"message\":\"Bump jackson-databind from 2.9.8 to 2.9.10.1\\n\\nBumps [jackson-databind](https://github.com/FasterXML/jackson) from 2.9.8 to 2.9.10.1.\\n- [Release notes](https://github.com/FasterXML/jackson/releases)\\n- [Commits](https://github.com/FasterXML/jackson/commits)\\n\\nSigned-of\n"
     ]
    }
   ],
   "source": [
    "import requests\n",
    "\n",
    "r = requests.get('https://api.github.com/events')\n",
    "print(r.text[0:1000])"
   ]
  },
  {
   "cell_type": "code",
   "execution_count": 21,
   "metadata": {},
   "outputs": [
    {
     "name": "stdout",
     "output_type": "stream",
     "text": [
      "30\n"
     ]
    }
   ],
   "source": [
    "import json\n",
    "\n",
    "print(len(json.loads(r.text)))"
   ]
  },
  {
   "cell_type": "code",
   "execution_count": 23,
   "metadata": {},
   "outputs": [],
   "source": [
    "list_ = json.loads(r.text)"
   ]
  },
  {
   "cell_type": "code",
   "execution_count": 24,
   "metadata": {
    "scrolled": true
   },
   "outputs": [
    {
     "data": {
      "text/plain": [
       "{'id': '11636587149',\n",
       " 'type': 'PushEvent',\n",
       " 'actor': {'id': 49448246,\n",
       "  'login': 'CezaryZal',\n",
       "  'display_login': 'CezaryZal',\n",
       "  'gravatar_id': '',\n",
       "  'url': 'https://api.github.com/users/CezaryZal',\n",
       "  'avatar_url': 'https://avatars.githubusercontent.com/u/49448246?'},\n",
       " 'repo': {'id': 205214122,\n",
       "  'name': 'CezaryZal/Dimension-tolerances',\n",
       "  'url': 'https://api.github.com/repos/CezaryZal/Dimension-tolerances'},\n",
       " 'payload': {'push_id': 4695877476,\n",
       "  'size': 2,\n",
       "  'distinct_size': 1,\n",
       "  'ref': 'refs/heads/master',\n",
       "  'head': '0849c43b1c2f55442c65a8caef250109db77791d',\n",
       "  'before': 'a09a5ad7b2cd7c7db9b866d2784bbb6a17fd9c7b',\n",
       "  'commits': [{'sha': '4a582eeee6d6ab6bb6be935d2c954ff554dad8a3',\n",
       "    'author': {'email': '49699333+dependabot[bot]@users.noreply.github.com',\n",
       "     'name': 'dependabot[bot]'},\n",
       "    'message': 'Bump jackson-databind from 2.9.8 to 2.9.10.1\\n\\nBumps [jackson-databind](https://github.com/FasterXML/jackson) from 2.9.8 to 2.9.10.1.\\n- [Release notes](https://github.com/FasterXML/jackson/releases)\\n- [Commits](https://github.com/FasterXML/jackson/commits)\\n\\nSigned-off-by: dependabot[bot] <support@github.com>',\n",
       "    'distinct': False,\n",
       "    'url': 'https://api.github.com/repos/CezaryZal/Dimension-tolerances/commits/4a582eeee6d6ab6bb6be935d2c954ff554dad8a3'},\n",
       "   {'sha': '0849c43b1c2f55442c65a8caef250109db77791d',\n",
       "    'author': {'email': '49448246+CezaryZal@users.noreply.github.com',\n",
       "     'name': 'Cezary Zalewski'},\n",
       "    'message': 'Merge pull request #1 from CezaryZal/dependabot/maven/com.fasterxml.jackson.core-jackson-databind-2.9.10.1\\n\\nBump jackson-databind from 2.9.8 to 2.9.10.1',\n",
       "    'distinct': True,\n",
       "    'url': 'https://api.github.com/repos/CezaryZal/Dimension-tolerances/commits/0849c43b1c2f55442c65a8caef250109db77791d'}]},\n",
       " 'public': True,\n",
       " 'created_at': '2020-02-28T14:44:34Z'}"
      ]
     },
     "execution_count": 24,
     "metadata": {},
     "output_type": "execute_result"
    }
   ],
   "source": [
    "list_[0]"
   ]
  },
  {
   "cell_type": "code",
   "execution_count": 25,
   "metadata": {},
   "outputs": [
    {
     "data": {
      "text/plain": [
       "{'args': {'key1': 'value1', 'key2': 'value2'},\n",
       " 'headers': {'Accept': '*/*',\n",
       "  'Accept-Encoding': 'gzip, deflate',\n",
       "  'Host': 'httpbin.org',\n",
       "  'User-Agent': 'python-requests/2.21.0',\n",
       "  'X-Amzn-Trace-Id': 'Root=1-5e592d91-a2b64c20fb6de020bafc5740'},\n",
       " 'origin': '1.174.16.179',\n",
       " 'url': 'http://httpbin.org/get?key1=value1&key2=value2'}"
      ]
     },
     "execution_count": 25,
     "metadata": {},
     "output_type": "execute_result"
    }
   ],
   "source": [
    "payload = {'key1': 'value1', 'key2': 'value2'}\n",
    "r = requests.get(\"http://httpbin.org/get\", params=payload)\n",
    "json.loads(r.text)"
   ]
  },
  {
   "cell_type": "code",
   "execution_count": 26,
   "metadata": {},
   "outputs": [
    {
     "data": {
      "text/plain": [
       "{'args': {},\n",
       " 'data': '',\n",
       " 'files': {},\n",
       " 'form': {'key': 'value'},\n",
       " 'headers': {'Accept': '*/*',\n",
       "  'Accept-Encoding': 'gzip, deflate',\n",
       "  'Content-Length': '9',\n",
       "  'Content-Type': 'application/x-www-form-urlencoded',\n",
       "  'Host': 'httpbin.org',\n",
       "  'User-Agent': 'python-requests/2.21.0',\n",
       "  'X-Amzn-Trace-Id': 'Root=1-5e592dcf-5715666a3cfd9064674be16e'},\n",
       " 'json': None,\n",
       " 'origin': '1.174.16.179',\n",
       " 'url': 'http://httpbin.org/post'}"
      ]
     },
     "execution_count": 26,
     "metadata": {},
     "output_type": "execute_result"
    }
   ],
   "source": [
    "r = requests.post('http://httpbin.org/post', data = {'key':'value'})\n",
    "json.loads(r.text)"
   ]
  },
  {
   "cell_type": "code",
   "execution_count": null,
   "metadata": {},
   "outputs": [],
   "source": []
  }
 ],
 "metadata": {
  "kernelspec": {
   "display_name": "Python 3",
   "language": "python",
   "name": "python3"
  },
  "language_info": {
   "codemirror_mode": {
    "name": "ipython",
    "version": 3
   },
   "file_extension": ".py",
   "mimetype": "text/x-python",
   "name": "python",
   "nbconvert_exporter": "python",
   "pygments_lexer": "ipython3",
   "version": "3.6.8"
  }
 },
 "nbformat": 4,
 "nbformat_minor": 2
}
