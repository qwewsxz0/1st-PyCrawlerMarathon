{
 "cells": [
  {
   "cell_type": "code",
   "execution_count": 2,
   "metadata": {},
   "outputs": [
    {
     "data": {
      "text/plain": [
       "('./data/2.txt', <http.client.HTTPMessage at 0x256cef2bbe0>)"
      ]
     },
     "execution_count": 2,
     "metadata": {},
     "output_type": "execute_result"
    }
   ],
   "source": [
    "from urllib.request import urlretrieve\n",
    "\n",
    "urlretrieve (\"https://www.w3.org/TR/PNG/iso_8859-1.txt\", \"./1.txt\")\n",
    "urlretrieve (\"https://www.w3.org/TR/PNG/iso_8859-1.txt\", \"./data/2.txt\")"
   ]
  },
  {
   "cell_type": "code",
   "execution_count": 3,
   "metadata": {},
   "outputs": [
    {
     "name": "stdout",
     "output_type": "stream",
     "text": [
      ".anaconda\n",
      ".conda\n",
      ".condarc\n",
      ".gitconfig\n",
      ".ipynb_checkpoints\n",
      ".ipython\n",
      ".jupyter\n",
      ".keras\n",
      ".matplotlib\n",
      ".PyCharm2019.1\n",
      ".PyCharmEdu2019.1\n",
      "1.txt\n",
      "123.ipynb\n",
      "3D Objects\n",
      "73 mitoses  cases -breast cancer\n",
      "adaboost-cnn-v1.ipynb\n",
      "AppData\n",
      "Application Data\n",
      "Attention_v1.ipynb\n",
      "autoencoder.ipynb\n",
      "autoencoder_cells_v1.ipynb\n",
      "autoencoder_cells_v2_l2regular.ipynb\n",
      "autoencoder_CNN.ipynb\n",
      "autoencoder_v1.ipynb\n",
      "autoencoder_v2.ipynb\n",
      "autoencoder_v3.ipynb\n",
      "autoencoder_v4_CNN.ipynb\n",
      "autoencoder_v5.ipynb\n",
      "autoencoder_v5_CNN.ipynb\n",
      "autoencoder_v6.ipynb\n",
      "autoencoder_v6_CNN.ipynb\n",
      "autoencoder_v6_CNN_Finishing version.ipynb\n",
      "autoencoder_v7_CNN.ipynb\n",
      "autoencoder_v8_CNN.ipynb\n",
      "cell_CNN_Classifier.ipynb\n",
      "cell_data_construct.ipynb\n",
      "CNN_adaboost.ipynb\n",
      "CNN_adaboost_v2.ipynb\n",
      "Contacts\n",
      "Cookies\n",
      "cv.ipynb\n",
      "data\n",
      "DATA_MERGE_NEW_rename\n",
      "Day001_HW.ipynb\n",
      "Desktop\n",
      "Documents\n",
      "Downloads\n",
      "DRAW train\n",
      "DRAW.ipynb\n",
      "draw_data.npy\n",
      "DRAW_test.ipynb\n",
      "example-with.txt\n",
      "example.txt\n",
      "Favorites\n",
      "final-cell_test.ipynb\n",
      "final-cell_test_adabost_test.ipynb\n",
      "final-cell_test_weak2_train.ipynb\n",
      "final-cell_test_weak3_train.ipynb\n",
      "final-cell_test_weak_train-Copy1.ipynb\n",
      "final-cell_test_weak_train.ipynb\n",
      "final.ipynb\n",
      "house_blending.csv\n",
      "house_gdbt.csv\n",
      "house_linear.csv\n",
      "house_rf.csv\n",
      "Links\n",
      "Local Settings\n",
      "MicrosoftEdgeBackups\n",
      "MIDTERM.ipynb\n",
      "MIDTERM_v2.ipynb\n",
      "MIDTERM_v3.ipynb\n",
      "MIDTERM_v4.ipynb\n",
      "MIDTERM_v5.ipynb\n",
      "MIDTERM_v6.ipynb\n",
      "MIDTERM_v7.ipynb\n",
      "MIDTERM_v8.ipynb\n",
      "MIDTERM_v9.ipynb\n",
      "mnist\n",
      "MNIST-data\n",
      "MNIST_data\n",
      "model-resnet50-final.h5\n",
      "model-resnet50-final_cell.h5\n",
      "model-resnet50-final_cell_weak1.h5\n",
      "model-resnet50-final_cell_weak1_test\n",
      "model-resnet50-final_cell_weak2.h5\n",
      "model-resnet50-final_cell_weak3.h5\n",
      "Music\n",
      "My Documents\n",
      "NetHood\n",
      "NTUSER.DAT\n",
      "ntuser.dat.LOG1\n",
      "ntuser.dat.LOG2\n",
      "NTUSER.DAT{76d7aab8-dffb-11e9-a0fd-14dda9d5c816}.TM.blf\n",
      "NTUSER.DAT{76d7aab8-dffb-11e9-a0fd-14dda9d5c816}.TMContainer00000000000000000001.regtrans-ms\n",
      "NTUSER.DAT{76d7aab8-dffb-11e9-a0fd-14dda9d5c816}.TMContainer00000000000000000002.regtrans-ms\n",
      "ntuser.ini\n",
      "OneDrive\n",
      "pair_test.ipynb\n",
      "Pictures\n",
      "practice_lnear.ipynb\n",
      "PrintHood\n",
      "PycharmProjects\n",
      "RBFNN.ipynb\n",
      "Recent\n",
      "Result.csv\n",
      "result_score.PNG\n",
      "Saved Games\n",
      "Searches\n",
      "SendTo\n",
      "Templates\n",
      "test.ipynb\n",
      "Untitled.ipynb\n",
      "Untitled1.ipynb\n",
      "Untitled2.ipynb\n",
      "Untitled3.ipynb\n",
      "Untitled4.ipynb\n",
      "Untitled5.ipynb\n",
      "Untitled6.ipynb\n",
      "Videos\n",
      "「開始」功能表\n"
     ]
    }
   ],
   "source": [
    "import os, sys\n",
    "\n",
    "# 打開文件（預設位置會是跟 .ipynb 程式相同的目錄）\n",
    "dirs = os.listdir( './' )\n",
    "\n",
    "# 顯示所有文件\n",
    "for file in dirs:\n",
    "    print(file)"
   ]
  },
  {
   "cell_type": "code",
   "execution_count": 4,
   "metadata": {},
   "outputs": [
    {
     "name": "stdout",
     "output_type": "stream",
     "text": [
      "47\n"
     ]
    }
   ],
   "source": [
    "fh = open(\"example.txt\", \"w\")\n",
    "f = fh.write(\"To write or not to write\\nthat is the question!\\n\")\n",
    "fh.close()\n",
    "\n",
    "print(f)"
   ]
  },
  {
   "cell_type": "code",
   "execution_count": 5,
   "metadata": {},
   "outputs": [
    {
     "name": "stdout",
     "output_type": "stream",
     "text": [
      "To write or not to write\n",
      "that is the question!\n",
      "\n"
     ]
    }
   ],
   "source": [
    "fh = open(\"example.txt\", \"r\")\n",
    "f = fh.read()\n",
    "fh.close()\n",
    "\n",
    "print(f)"
   ]
  },
  {
   "cell_type": "code",
   "execution_count": 6,
   "metadata": {},
   "outputs": [
    {
     "name": "stdout",
     "output_type": "stream",
     "text": [
      "47\n",
      "To write or not to write\n",
      "that is the question!\n",
      "\n"
     ]
    }
   ],
   "source": [
    "with open(\"example-with.txt\", \"w\") as fh:\n",
    "    f = fh.write(\"To write or not to write\\nthat is the question!\\n\")\n",
    "    print(f)\n",
    "    \n",
    "with open(\"example-with.txt\", \"r\") as fh:\n",
    "    f = fh.read()\n",
    "    print(f)"
   ]
  },
  {
   "cell_type": "code",
   "execution_count": 7,
   "metadata": {},
   "outputs": [
    {
     "name": "stdout",
     "output_type": "stream",
     "text": [
      ".anaconda\n",
      ".conda\n",
      ".condarc\n",
      ".gitconfig\n",
      ".ipynb_checkpoints\n",
      ".ipython\n",
      ".jupyter\n",
      ".keras\n",
      ".matplotlib\n",
      ".PyCharm2019.1\n",
      ".PyCharmEdu2019.1\n",
      "1.txt\n",
      "123.ipynb\n",
      "3D Objects\n",
      "73 mitoses  cases -breast cancer\n",
      "adaboost-cnn-v1.ipynb\n",
      "AppData\n",
      "Application Data\n",
      "Attention_v1.ipynb\n",
      "autoencoder.ipynb\n",
      "autoencoder_cells_v1.ipynb\n",
      "autoencoder_cells_v2_l2regular.ipynb\n",
      "autoencoder_CNN.ipynb\n",
      "autoencoder_v1.ipynb\n",
      "autoencoder_v2.ipynb\n",
      "autoencoder_v3.ipynb\n",
      "autoencoder_v4_CNN.ipynb\n",
      "autoencoder_v5.ipynb\n",
      "autoencoder_v5_CNN.ipynb\n",
      "autoencoder_v6.ipynb\n",
      "autoencoder_v6_CNN.ipynb\n",
      "autoencoder_v6_CNN_Finishing version.ipynb\n",
      "autoencoder_v7_CNN.ipynb\n",
      "autoencoder_v8_CNN.ipynb\n",
      "cell_CNN_Classifier.ipynb\n",
      "cell_data_construct.ipynb\n",
      "CNN_adaboost.ipynb\n",
      "CNN_adaboost_v2.ipynb\n",
      "Contacts\n",
      "Cookies\n",
      "cv.ipynb\n",
      "data\n",
      "DATA_MERGE_NEW_rename\n",
      "Day001_HW.ipynb\n",
      "Desktop\n",
      "Documents\n",
      "Downloads\n",
      "DRAW train\n",
      "DRAW.ipynb\n",
      "draw_data.npy\n",
      "DRAW_test.ipynb\n",
      "example-with.txt\n",
      "example.txt\n",
      "Favorites\n",
      "final-cell_test.ipynb\n",
      "final-cell_test_adabost_test.ipynb\n",
      "final-cell_test_weak2_train.ipynb\n",
      "final-cell_test_weak3_train.ipynb\n",
      "final-cell_test_weak_train-Copy1.ipynb\n",
      "final-cell_test_weak_train.ipynb\n",
      "final.ipynb\n",
      "house_blending.csv\n",
      "house_gdbt.csv\n",
      "house_linear.csv\n",
      "house_rf.csv\n",
      "Links\n",
      "Local Settings\n",
      "MicrosoftEdgeBackups\n",
      "MIDTERM.ipynb\n",
      "MIDTERM_v2.ipynb\n",
      "MIDTERM_v3.ipynb\n",
      "MIDTERM_v4.ipynb\n",
      "MIDTERM_v5.ipynb\n",
      "MIDTERM_v6.ipynb\n",
      "MIDTERM_v7.ipynb\n",
      "MIDTERM_v8.ipynb\n",
      "MIDTERM_v9.ipynb\n",
      "mnist\n",
      "MNIST-data\n",
      "MNIST_data\n",
      "model-resnet50-final.h5\n",
      "model-resnet50-final_cell.h5\n",
      "model-resnet50-final_cell_weak1.h5\n",
      "model-resnet50-final_cell_weak1_test\n",
      "model-resnet50-final_cell_weak2.h5\n",
      "model-resnet50-final_cell_weak3.h5\n",
      "Music\n",
      "My Documents\n",
      "NetHood\n",
      "NTUSER.DAT\n",
      "ntuser.dat.LOG1\n",
      "ntuser.dat.LOG2\n",
      "NTUSER.DAT{76d7aab8-dffb-11e9-a0fd-14dda9d5c816}.TM.blf\n",
      "NTUSER.DAT{76d7aab8-dffb-11e9-a0fd-14dda9d5c816}.TMContainer00000000000000000001.regtrans-ms\n",
      "NTUSER.DAT{76d7aab8-dffb-11e9-a0fd-14dda9d5c816}.TMContainer00000000000000000002.regtrans-ms\n",
      "ntuser.ini\n",
      "OneDrive\n",
      "pair_test.ipynb\n",
      "Pictures\n",
      "practice_lnear.ipynb\n",
      "PrintHood\n",
      "PycharmProjects\n",
      "RBFNN.ipynb\n",
      "Recent\n",
      "Result.csv\n",
      "result_score.PNG\n",
      "Saved Games\n",
      "Searches\n",
      "SendTo\n",
      "Templates\n",
      "test.ipynb\n",
      "Untitled.ipynb\n",
      "Untitled1.ipynb\n",
      "Untitled2.ipynb\n",
      "Untitled3.ipynb\n",
      "Untitled4.ipynb\n",
      "Untitled5.ipynb\n",
      "Untitled6.ipynb\n",
      "Videos\n",
      "「開始」功能表\n"
     ]
    }
   ],
   "source": [
    "import os, sys\n",
    "\n",
    "# 打開文件\n",
    "dirs = os.listdir( './' )\n",
    "\n",
    "# 顯示所有文件\n",
    "for file in dirs:\n",
    "    print(file)"
   ]
  },
  {
   "cell_type": "code",
   "execution_count": 10,
   "metadata": {},
   "outputs": [
    {
     "name": "stdout",
     "output_type": "stream",
     "text": [
      "{'encoding': 'ascii', 'confidence': 1.0, 'language': ''}\n"
     ]
    }
   ],
   "source": [
    "import chardet\n",
    " \n",
    "f = open('example.txt', 'rb')\n",
    "data = f.read()\n",
    "print(chardet.detect(data))"
   ]
  },
  {
   "cell_type": "markdown",
   "metadata": {},
   "source": [
    "作業目標\n",
    "1.（簡答題）檔案、API、爬蟲三種取得資料方式有什麼不同？\n",
    "2.（實作）完成一個程式，需滿足下列需求：\n",
    "下載指定檔案到 Data 資料夾，存成檔名 Homework.txt\n",
    "檢查 Data 資料夾是否有 Homework.txt 檔名之檔案\n",
    "將「Hello World」字串覆寫到 Homework.txt 檔案\n",
    "檢查 Homework.txt 檔案字數是否符合 Hello World 字數"
   ]
  },
  {
   "cell_type": "markdown",
   "metadata": {},
   "source": [
    "1.需不需要儲存資料，跟資料放的地方不同"
   ]
  },
  {
   "cell_type": "code",
   "execution_count": 11,
   "metadata": {},
   "outputs": [
    {
     "data": {
      "text/plain": [
       "('./data/Homework.txt', <http.client.HTTPMessage at 0x256cef44a58>)"
      ]
     },
     "execution_count": 11,
     "metadata": {},
     "output_type": "execute_result"
    }
   ],
   "source": [
    "urlretrieve (\"https://www.w3.org/TR/PNG/iso_8859-1.txt\", \"./data/Homework.txt\")"
   ]
  },
  {
   "cell_type": "code",
   "execution_count": 13,
   "metadata": {},
   "outputs": [
    {
     "name": "stdout",
     "output_type": "stream",
     "text": [
      "2.txt\n",
      "application_test.csv\n",
      "application_train.csv\n",
      "column_description.xls\n",
      "Homework.txt\n",
      "house_test.csv.gz\n",
      "house_train.csv.gz\n",
      "Result.csv\n",
      "sample_submission.csv\n",
      "sample_submission.csv.zip\n",
      "taxi_data1.csv\n",
      "taxi_data2.csv\n",
      "test_offline.csv\n",
      "test_offline.csv.zip\n",
      "titanic_test.csv\n",
      "titanic_train.csv\n",
      "train_offline.csv\n",
      "train_offline.csv.zip\n"
     ]
    }
   ],
   "source": [
    "import os, sys\n",
    "\n",
    "# 打開文件\n",
    "dirs = os.listdir( './data/' )\n",
    "\n",
    "# 顯示所有文件\n",
    "for file in dirs:\n",
    "    print(file)"
   ]
  },
  {
   "cell_type": "code",
   "execution_count": 14,
   "metadata": {},
   "outputs": [],
   "source": [
    "fh = open(\"./data/Homework.txt\", \"w\")\n",
    "f = fh.write(\"Hello World\\n\")\n",
    "fh.close()"
   ]
  },
  {
   "cell_type": "code",
   "execution_count": 18,
   "metadata": {},
   "outputs": [
    {
     "name": "stdout",
     "output_type": "stream",
     "text": [
      "Hello World\n",
      "\n"
     ]
    }
   ],
   "source": [
    "fh = open(\"./data/Homework.txt\", \"r\")\n",
    "f = fh.read()\n",
    "fh.close()\n",
    "\n",
    "print(f)"
   ]
  },
  {
   "cell_type": "code",
   "execution_count": 20,
   "metadata": {},
   "outputs": [
    {
     "data": {
      "text/plain": [
       "12"
      ]
     },
     "execution_count": 20,
     "metadata": {},
     "output_type": "execute_result"
    }
   ],
   "source": [
    "len(f)"
   ]
  },
  {
   "cell_type": "code",
   "execution_count": 16,
   "metadata": {},
   "outputs": [
    {
     "name": "stdout",
     "output_type": "stream",
     "text": [
      "{'encoding': 'ascii', 'confidence': 1.0, 'language': ''}\n"
     ]
    }
   ],
   "source": [
    "f = open('./data/Homework.txt', 'rb')\n",
    "data = f.read()\n",
    "print(chardet.detect(data))"
   ]
  },
  {
   "cell_type": "code",
   "execution_count": null,
   "metadata": {},
   "outputs": [],
   "source": []
  }
 ],
 "metadata": {
  "kernelspec": {
   "display_name": "Python 3",
   "language": "python",
   "name": "python3"
  },
  "language_info": {
   "codemirror_mode": {
    "name": "ipython",
    "version": 3
   },
   "file_extension": ".py",
   "mimetype": "text/x-python",
   "name": "python",
   "nbconvert_exporter": "python",
   "pygments_lexer": "ipython3",
   "version": "3.6.8"
  }
 },
 "nbformat": 4,
 "nbformat_minor": 2
}
